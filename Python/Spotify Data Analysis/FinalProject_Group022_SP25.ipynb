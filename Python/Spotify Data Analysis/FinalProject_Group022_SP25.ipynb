{
 "cells": [
  {
   "cell_type": "markdown",
   "metadata": {},
   "source": [
    "Video: https://www.youtube.com/watch?v=LvKpFGanVbE&ab_channel=RubinYi"
   ]
  },
  {
   "cell_type": "markdown",
   "metadata": {},
   "source": [
    "# Charting Performance\n",
    "\n",
    "# Permissions\n",
    "\n",
    "Place an `X` in the appropriate bracket below to specify if you would like your group's project to be made available to the public. (Note that student names will be included (but PIDs will be scraped from any groups who include their PIDs).\n",
    "\n",
    "* [X] YES - make available\n",
    "* [  ] NO - keep private\n",
    "\n",
    "# Names\n",
    "\n",
    "- Roy Lee\n",
    "- Brandon Su\n",
    "- Kyle Kim\n",
    "- Donovan Tran\n",
    "- Rubin Yi\n",
    "\n",
    "# Abstract\n",
    "\n",
    "We investigated how measurable aspects of song titles (length, sentiment, keywords) and album cover art (brightness, visual complexity, colorfulness) relate to song popularity, defined by total track plays and average monthly listeners. Given that listeners often encounter music visually before listening, we aimed to quantify whether appealing cover art and engaging song titles might drive listener engagement.\n",
    "\n",
    "To analyze these elements, we applied computer vision techniques using OpenCV, extracting visual features like brightness, contrast, sharpness, entropy, and colorfulness from album covers. Song titles were evaluated based on their character length and categorized into short, medium, and long groups for further comparison.\n",
    "\n",
    "Our findings indicated limited correlations between these visual and textual features and song popularity. While longer titles displayed a slight positive association with engagement, results showed substantial variability. Similarly, visual attributes from cover art exhibited minimal consistent influence. Thus, although presentation features may contribute subtly, they appear insufficient as standalone predictors of a song’s success, suggesting their impact is part of a larger context involving multiple interacting factors.\n"
   ]
  },
  {
   "cell_type": "markdown",
   "metadata": {},
   "source": [
    "# Research Question"
   ]
  },
  {
   "cell_type": "markdown",
   "metadata": {},
   "source": [
    "How do measurable song title characteristics such as word count, sentiment, and keyword usage, along with cover art features such as brightness, visual complexity, and color palette, relate to a song’s popularity as measured by total track plays and average monthly listeners?"
   ]
  },
  {
   "cell_type": "markdown",
   "metadata": {},
   "source": [
    "## Background and Prior Work"
   ]
  },
  {
   "cell_type": "markdown",
   "metadata": {},
   "source": [
    "#### Introduction:\n",
    "A song’s popularity is often measured by the number of listens it receives and how widely recognized it is in the media. Media exposure plays a significant role, songs shared in viral posts or used in the background of videos can quickly gain traction. Additionally, placement in radio playlists, TV shows, or movies can draw attention to a song and increase its audience. An artist’s existing popularity also contributes, as well-known musicians typically attract more listeners. Beyond these external influences, internal elements such as vocals and instrumentals affect how enjoyable a song is to listeners. However, our focus is on whether less obvious factors, specifically, cover art and song titles,can influence a listener’s decision to play or enjoy a song. We aim to examine whether appealing visual art or charming titles correlate with increased engagement, exploring whether “good art” can enhance the perception of “good music.”\n",
    "\n",
    "#### Prior Work:\n",
    "Music is an art form experienced through both sound and visuals. Within the music industry, cover art plays a crucial role in distinguishing one artist from another. First impressions matter, before a listener ever hears a song, they often encounter its cover art. Visually striking artwork can be the deciding factor in whether someone chooses to play a track or scroll past it. <a name=\"cite_ref-1\"></a>[<sup>1</sup>](#cite_note-1) Beyond attracting attention, cover art helps shape the overall experience of the music by setting the tone and building a visual association with the artist. It serves as a bridge between auditory and visual expression, enhancing how music is perceived and remembered.<a name=\"cite_ref-2\"></a>[<sup>2</sup>](#cite_note-2) For emerging artists, compelling cover art can offer a path into the industry, while for established names, it helps maintain brand recognition and listener engagement.\n",
    "\n",
    "Just like cover art serves as a first impression, a song’s title can carry similar weight. A title often reflects the theme of the track, acting either as a lyrical hook or offering insight into the song’s meaning. <a name=\"cite_ref-3\"></a>[<sup>3</sup>](#cite_note-3) It also prompts listeners to connect the lyrics back to the title, encouraging a deeper understanding of the message. Futhermore, some messages that we see in modern music, is influenced by music and art from decades prior.<a name=\"cite_ref-4\"></a>[<sup>4</sup>](#cite_note-4) However, because song titles are typically short and not protected by copyright, it’s common for multiple songs to share the same name. In some cases, one version may become widely popular, appearing in countless TikTok videos, while another with the same title remains obscure.<a name=\"cite_ref-6\"></a>[<sup>6</sup>](#cite_note-6) As a result, a title alone may hold limited influence and mean little to a listener without additional context.\n",
    "\n",
    "With the current state of artificial intelligence and deep learning, the average person has access to an even broader range of information at their fingertips. Researchers have started to lean toward relying on these tools to supplement their work. This means that researchers are able to divert their attention to other aspects of their research than simply crunching numbers or studying data sets, as that is where AI may step in and assist. However, our project hopes to take a look at an aspect of music popularity that may not be quantifiable, since the appreciation of art is subjective. While this approach tries to highlight how art may be a factor to a music track’s success, some gaps that may arise within our project is how different cultures may tie into how people perceive art. This can even be extended further to how different culture like different genres, which is also something that we may find missing within our project.<a name=\"cite_ref-7\"></a>[<sup>7</sup>](#cite_note-7) Art generally is interpreted in many different ways, and can be influenced by many other factors that are not quantifiable. Culture, gender, religion, and different environments tend to shape different people, giving everyone a unique and complex interpretation of what they see around them. This may be the biggest gap within our research, as this is not entirely taken into account when looking at our data. \n",
    "\n",
    "Music popularity is shaped by a variety of factors, including popular genres, catchy sounds, and media exposure. However, these elements may not fully explain why certain songs become widely successful. Since people interpret music and media in different ways, a song’s rise in popularity might depend on more than just its sound. Visuals, labels, and other surrounding elements can also influence whether a listener chooses to engage with a track.\n",
    "\n",
    "References:\n",
    "1. <a name=\"cite_note-1\"></a> [^](#cite_ref-1) Alli Galloway. The Art of Music <br>~\n",
    "   (https://www.vampr.me/blog/the-art-of-music-the-crucial-role-of-cover-art-in-todays-music-industry/)\n",
    "2. <a name=\"cite_note-2\"></a> [^](#cite_ref-2) Apple Music. Cover Art <br>~\n",
    "   (https://artists.apple.com/support/1120-cover-art)\n",
    "3. <a name=\"cite_note-3\"></a> [^](#cite_ref-3) Charlotte Yates. Why Song Titles Still Matter in Music <br>~\n",
    "   (https://bandzoogle.com/blog/why-song-titles-still-matter-in-music)\n",
    "4. <a name=\"cite_note-4\"></a> [^](#cite_ref-4) The Evolution of Album Art Through Decades of Music <br>~\n",
    "    (https://wagner.radford.edu/160/1/James%20Thesis%20--%20Final.pdf)\n",
    "5. <a name=\"cite_note-5\"></a> [^](#cite_ref-5) Significance and Popularity in Music Production <br>~\n",
    "    (https://royalsocietypublishing.org/doi/full/10.1098/rsos.170433)\n",
    "6. <a name=\"cite_note-6\"></a> [^](#cite_ref-6) Trends in Western Popular Music: Analyzing Top Album Charts and Online User Opinions <br>~\n",
    "    (https://www.utupub.fi/bitstream/handle/10024/178139/HVuorinen_Thesis.pdf?sequence=1)\n",
    "7. <a name=\"cite_note-7\"></a> [^](#cite_ref-7) Relationship Between Album Cover Design and Music Genres <br>~\n",
    "    (https://ieeexplore.ieee.org/abstract/document/8936738)"
   ]
  },
  {
   "cell_type": "markdown",
   "metadata": {},
   "source": [
    "# Hypothesis\n"
   ]
  },
  {
   "cell_type": "markdown",
   "metadata": {},
   "source": [
    "We predict a strong correlation between listener engagement and visually appealing cover art and charming song titles because of the importance of drawing in the attention of consumers to get them to play the songs in the albums. Visually appealing cover art will be determined through the levels of contrast between colors used for the cover arts of songs. Charming titles will be determined through an identification of key words that evoke emotion or have an emotional connotation. The lengths of the titles will also be analyzed to see if longer/shorter titles are more charming to listeners. We believe that to consumers, the cover art and song titles reflect the quality of music from the artist and therefore would increase engagement."
   ]
  },
  {
   "cell_type": "markdown",
   "metadata": {},
   "source": [
    "# Data"
   ]
  },
  {
   "cell_type": "markdown",
   "metadata": {},
   "source": [
    "## Data overview\n",
    "\n",
    "For each dataset include the following information\n",
    "- Dataset #1\n",
    "  - Dataset Name: Songs Dataset\n",
    "  - Link to the dataset: https://www.kaggle.com/datasets/jashanjeetsinghhh/songs-dataset\n",
    "  - Number of observations: 65000\n",
    "  - Number of variables: 20\n",
    "\n",
    "Now write 2 - 5 sentences describing each dataset here. Include a short description of the important variables in the dataset; what the metrics and datatypes are, what concepts they may be proxies for. Include information about how you would need to wrangle/clean/preprocess the dataset\n",
    "\n",
    "Dataset #1\n",
    "This dataset includes song meta data such as name, artist, spotify_id, as general information, and includes the album cover image for each song. The most important variables in the dataset are the title and spotify IDs, which are strings, to retrieve data about the popularity of the songs from the Spotify API which will be serving as proxies for measuring song engagement. The img variable, a string URL, is also important for retrieving cover art which we will use image analysis tools to quantify the appeal of the cover art. Cleaning this dataset includes removing data which has null values for important variables and inconsistent text fields."
   ]
  },
  {
   "cell_type": "markdown",
   "metadata": {},
   "source": [
    "## Songs Dataset Wrangling"
   ]
  },
  {
   "cell_type": "markdown",
   "metadata": {},
   "source": [
    "We start by importing the various libraries we need such as Pandas and NumPy for basic DataFrame functionality. We also import cv2 so we can analyze the images. We also import requests and spotipy to access the Spotify API. We then set up the API access with client IDs and authorization and read our data set using Pandas read_csv() function."
   ]
  },
  {
   "cell_type": "code",
   "execution_count": 1,
   "metadata": {},
   "outputs": [],
   "source": [
    "import pandas as pd\n",
    "import numpy as np\n",
    "import cv2\n",
    "import requests\n",
    "from spotipy import Spotify\n",
    "from spotipy.oauth2 import SpotifyOAuth\n",
    "from sklearn.preprocessing import MinMaxScaler\n",
    "\n",
    "# Spotify Credentials\n",
    "SPOTIPY_CLIENT_ID = \"eff84855fdca4dec90b3f39bb0c3a129\"\n",
    "SPOTIPY_CLIENT_SECRET = \"736fc8b091064803acca676481ea64e1\"\n",
    "SPOTIPY_REDIRECT_URI = \"http://127.0.0.1:5000/callback\"\n",
    "\n",
    "sp_oauth = SpotifyOAuth(client_id=SPOTIPY_CLIENT_ID,\n",
    "                        client_secret=SPOTIPY_CLIENT_SECRET,\n",
    "                        redirect_uri=SPOTIPY_REDIRECT_URI,\n",
    "                        show_dialog=True)\n",
    "\n",
    "sp = Spotify(auth_manager=sp_oauth)\n",
    "\n",
    "file_path = \"Music.csv\"\n",
    "df = pd.read_csv(file_path)"
   ]
  },
  {
   "cell_type": "markdown",
   "metadata": {},
   "source": [
    "These functions are used to retrieve the images from the string URLs, then compute an engagment score of the image using the cv2 library. It first checks if the URL is valid, then gets the image, and converts it into an array. We then calculate various image features such as brightness, contrast, colorfulness, sharpness, and entropy values."
   ]
  },
  {
   "cell_type": "code",
   "execution_count": 2,
   "metadata": {},
   "outputs": [],
   "source": [
    "from scipy.stats import entropy as shannon_entropy\n",
    "\n",
    "# The code of this function is mostly generated by ChatGPT from the prompt \"write a python function to calculate image engagement metrics\"\n",
    "def get_image_engagement_metrics(url):\n",
    "    if not isinstance(url, str) or not url.startswith(\"http\"):\n",
    "        return {\n",
    "            'contrast': np.nan,\n",
    "            'colorfulness': np.nan,\n",
    "            'brightness': np.nan,\n",
    "            'sharpness': np.nan,\n",
    "            'entropy': np.nan\n",
    "        }\n",
    "    try:\n",
    "        response = requests.get(url, timeout=5)\n",
    "        image_array = np.asarray(bytearray(response.content), dtype=np.uint8)\n",
    "        image = cv2.imdecode(image_array, cv2.IMREAD_COLOR)\n",
    "        if image is None:\n",
    "            raise ValueError(\"Image could not be decoded.\")\n",
    "\n",
    "        gray = cv2.cvtColor(image, cv2.COLOR_BGR2GRAY)\n",
    "        contrast = np.std(gray)\n",
    "        brightness = np.mean(gray)\n",
    "        sharpness = cv2.Laplacian(gray, cv2.CV_64F).var()\n",
    "        hist = np.histogram(gray, bins=256)[0]\n",
    "        entropy_val = shannon_entropy(hist + 1e-8)\n",
    "\n",
    "        (B, G, R) = cv2.split(image.astype(\"float\"))\n",
    "        rg = np.absolute(R - G)\n",
    "        yb = np.absolute(0.5 * (R + G) - B)\n",
    "        std_rg, std_yb = np.std(rg), np.std(yb)\n",
    "        mean_rg, mean_yb = np.mean(rg), np.mean(yb)\n",
    "        colorfulness = np.sqrt(std_rg**2 + std_yb**2) + 0.3 * np.sqrt(mean_rg**2 + mean_yb**2)\n",
    "\n",
    "        return {\n",
    "            'contrast': round(contrast, 2),\n",
    "            'colorfulness': round(colorfulness, 2),\n",
    "            'brightness': round(brightness, 2),\n",
    "            'sharpness': round(sharpness, 2),\n",
    "            'entropy': round(entropy_val, 2)\n",
    "        }\n",
    "    except:\n",
    "        return {\n",
    "            'contrast': np.nan,\n",
    "            'colorfulness': np.nan,\n",
    "            'brightness': np.nan,\n",
    "            'sharpness': np.nan,\n",
    "            'entropy': np.nan\n",
    "        }"
   ]
  },
  {
   "cell_type": "markdown",
   "metadata": {},
   "source": [
    "We now create a function which retrieves the popularity of the song using the Spotify API. We directly pass and work with the DataFrame because we want to minimize the number of Spotify API calls by calling in batches of 50 songs. This is the maximum number of songs we can call at once and it speeds up our wrangling."
   ]
  },
  {
   "cell_type": "code",
   "execution_count": 3,
   "metadata": {},
   "outputs": [],
   "source": [
    "import spotipy\n",
    "from spotipy import Spotify\n",
    "from spotipy.oauth2 import SpotifyOAuth\n",
    "\n",
    "## The code of this function is mostly generated by ChatGPT from the prompt \"write a python function to get the popularity of a list of spotify ids using the spotipy library\"\n",
    "def get_popularity_and_releasedate_spotify_ids(\n",
    "    df: pd.DataFrame,\n",
    "    sp: spotipy.Spotify,\n",
    "    id_col=\"spotify_id\"\n",
    ") -> pd.DataFrame:\n",
    "    df = df.copy()\n",
    "    popularity_scores = {}\n",
    "    release_dates = {}\n",
    "    \n",
    "    ids = df[id_col].dropna().unique().tolist()\n",
    "    \n",
    "    for i in range(0, len(ids), 50):\n",
    "        batch = ids[i:i+50]\n",
    "        try:\n",
    "            tracks = sp.tracks(batch)['tracks']\n",
    "            for track in tracks:\n",
    "                if track:\n",
    "                    track_id = track['id']\n",
    "                    popularity_scores[track_id] = track.get('popularity', None)\n",
    "                    release_dates[track_id] = track.get('album', {}).get('release_date', None)\n",
    "        except Exception as e:\n",
    "            print(f\"Error fetching batch starting at index {i}: {e}\")\n",
    "    \n",
    "    df['popularity'] = df[id_col].map(popularity_scores)\n",
    "    df['release_date'] = df[id_col].map(release_dates)\n",
    "    \n",
    "    return df"
   ]
  },
  {
   "cell_type": "markdown",
   "metadata": {},
   "source": [
    "We only keep track of relevant fields for our analysis and wrangling so we only keep the song name, artist, spotify ID, image URL, popularity, and release date. We will also be using title length has a possible variable for engagement so we add that here as well."
   ]
  },
  {
   "cell_type": "code",
   "execution_count": 4,
   "metadata": {},
   "outputs": [
    {
     "data": {
      "text/html": [
       "<div>\n",
       "<style scoped>\n",
       "    .dataframe tbody tr th:only-of-type {\n",
       "        vertical-align: middle;\n",
       "    }\n",
       "\n",
       "    .dataframe tbody tr th {\n",
       "        vertical-align: top;\n",
       "    }\n",
       "\n",
       "    .dataframe thead th {\n",
       "        text-align: right;\n",
       "    }\n",
       "</style>\n",
       "<table border=\"1\" class=\"dataframe\">\n",
       "  <thead>\n",
       "    <tr style=\"text-align: right;\">\n",
       "      <th></th>\n",
       "      <th>name</th>\n",
       "      <th>artist</th>\n",
       "      <th>spotify_id</th>\n",
       "      <th>img</th>\n",
       "      <th>name_length</th>\n",
       "    </tr>\n",
       "  </thead>\n",
       "  <tbody>\n",
       "    <tr>\n",
       "      <th>0</th>\n",
       "      <td>Mood (feat. iann dior)</td>\n",
       "      <td>24kGoldn</td>\n",
       "      <td>3tjFYV6RSFtuktYl3ZtYcq</td>\n",
       "      <td>https://i.scdn.co/image/ab67616d0000b273ff8c98...</td>\n",
       "      <td>22</td>\n",
       "    </tr>\n",
       "    <tr>\n",
       "      <th>1</th>\n",
       "      <td>Blinding Lights</td>\n",
       "      <td>The Weeknd</td>\n",
       "      <td>0VjIjW4GlUZAMYd2vXMi3b</td>\n",
       "      <td>https://i.scdn.co/image/ab67616d0000b2738863bc...</td>\n",
       "      <td>15</td>\n",
       "    </tr>\n",
       "    <tr>\n",
       "      <th>2</th>\n",
       "      <td>Dynamite</td>\n",
       "      <td>BTS</td>\n",
       "      <td>0t1kP63rueHleOhQkYSXFY</td>\n",
       "      <td>https://i.scdn.co/image/ab67616d0000b273755995...</td>\n",
       "      <td>8</td>\n",
       "    </tr>\n",
       "    <tr>\n",
       "      <th>3</th>\n",
       "      <td>ROCKSTAR (feat. Roddy Ricch)</td>\n",
       "      <td>DaBaby</td>\n",
       "      <td>7ytR5pFWmSjzHJIeQkgog4</td>\n",
       "      <td>https://i.scdn.co/image/ab67616d0000b27320e08c...</td>\n",
       "      <td>28</td>\n",
       "    </tr>\n",
       "    <tr>\n",
       "      <th>4</th>\n",
       "      <td>For The Night (feat. Lil Baby &amp; DaBaby)</td>\n",
       "      <td>Pop Smoke</td>\n",
       "      <td>0PvFJmanyNQMseIFrU708S</td>\n",
       "      <td>https://i.scdn.co/image/ab67616d0000b27377ada0...</td>\n",
       "      <td>39</td>\n",
       "    </tr>\n",
       "    <tr>\n",
       "      <th>...</th>\n",
       "      <td>...</td>\n",
       "      <td>...</td>\n",
       "      <td>...</td>\n",
       "      <td>...</td>\n",
       "      <td>...</td>\n",
       "    </tr>\n",
       "    <tr>\n",
       "      <th>995</th>\n",
       "      <td>Drive By</td>\n",
       "      <td>Train</td>\n",
       "      <td>0KAiuUOrLTIkzkpfpn9jb9</td>\n",
       "      <td>https://i.scdn.co/image/ab67616d0000b273bde344...</td>\n",
       "      <td>8</td>\n",
       "    </tr>\n",
       "    <tr>\n",
       "      <th>996</th>\n",
       "      <td>Heart Attack</td>\n",
       "      <td>Demi Lovato</td>\n",
       "      <td>1V6gIisPpYqgFeWbMLI0bA</td>\n",
       "      <td>https://i.scdn.co/image/ab67616d0000b273aadb13...</td>\n",
       "      <td>12</td>\n",
       "    </tr>\n",
       "    <tr>\n",
       "      <th>997</th>\n",
       "      <td>Blame (feat. John Newman)</td>\n",
       "      <td>Calvin Harris</td>\n",
       "      <td>07nH4ifBxUB4lZcsf44Brn</td>\n",
       "      <td>https://i.scdn.co/image/ab67616d0000b273063c04...</td>\n",
       "      <td>25</td>\n",
       "    </tr>\n",
       "    <tr>\n",
       "      <th>998</th>\n",
       "      <td>bad idea!</td>\n",
       "      <td>girl in red</td>\n",
       "      <td>1M4Ud66z18wuIq3oOxqVHa</td>\n",
       "      <td>https://i.scdn.co/image/ab67616d0000b2736df69c...</td>\n",
       "      <td>9</td>\n",
       "    </tr>\n",
       "    <tr>\n",
       "      <th>999</th>\n",
       "      <td>The Weekend</td>\n",
       "      <td>SZA</td>\n",
       "      <td>6gU9OKjOE7ghfEd55oRO57</td>\n",
       "      <td>https://i.scdn.co/image/ab67616d0000b2734c79d5...</td>\n",
       "      <td>11</td>\n",
       "    </tr>\n",
       "  </tbody>\n",
       "</table>\n",
       "<p>1000 rows × 5 columns</p>\n",
       "</div>"
      ],
      "text/plain": [
       "                                        name         artist  \\\n",
       "0                     Mood (feat. iann dior)       24kGoldn   \n",
       "1                            Blinding Lights     The Weeknd   \n",
       "2                                   Dynamite            BTS   \n",
       "3               ROCKSTAR (feat. Roddy Ricch)         DaBaby   \n",
       "4    For The Night (feat. Lil Baby & DaBaby)      Pop Smoke   \n",
       "..                                       ...            ...   \n",
       "995                                 Drive By          Train   \n",
       "996                             Heart Attack    Demi Lovato   \n",
       "997                Blame (feat. John Newman)  Calvin Harris   \n",
       "998                                bad idea!    girl in red   \n",
       "999                              The Weekend            SZA   \n",
       "\n",
       "                 spotify_id  \\\n",
       "0    3tjFYV6RSFtuktYl3ZtYcq   \n",
       "1    0VjIjW4GlUZAMYd2vXMi3b   \n",
       "2    0t1kP63rueHleOhQkYSXFY   \n",
       "3    7ytR5pFWmSjzHJIeQkgog4   \n",
       "4    0PvFJmanyNQMseIFrU708S   \n",
       "..                      ...   \n",
       "995  0KAiuUOrLTIkzkpfpn9jb9   \n",
       "996  1V6gIisPpYqgFeWbMLI0bA   \n",
       "997  07nH4ifBxUB4lZcsf44Brn   \n",
       "998  1M4Ud66z18wuIq3oOxqVHa   \n",
       "999  6gU9OKjOE7ghfEd55oRO57   \n",
       "\n",
       "                                                   img  name_length  \n",
       "0    https://i.scdn.co/image/ab67616d0000b273ff8c98...           22  \n",
       "1    https://i.scdn.co/image/ab67616d0000b2738863bc...           15  \n",
       "2    https://i.scdn.co/image/ab67616d0000b273755995...            8  \n",
       "3    https://i.scdn.co/image/ab67616d0000b27320e08c...           28  \n",
       "4    https://i.scdn.co/image/ab67616d0000b27377ada0...           39  \n",
       "..                                                 ...          ...  \n",
       "995  https://i.scdn.co/image/ab67616d0000b273bde344...            8  \n",
       "996  https://i.scdn.co/image/ab67616d0000b273aadb13...           12  \n",
       "997  https://i.scdn.co/image/ab67616d0000b273063c04...           25  \n",
       "998  https://i.scdn.co/image/ab67616d0000b2736df69c...            9  \n",
       "999  https://i.scdn.co/image/ab67616d0000b2734c79d5...           11  \n",
       "\n",
       "[1000 rows x 5 columns]"
      ]
     },
     "execution_count": 4,
     "metadata": {},
     "output_type": "execute_result"
    }
   ],
   "source": [
    "df = df[['name', 'artist', 'spotify_id', 'img']]\n",
    "df['name_length'] = df['name'].apply(len)\n",
    "df = df.head(1000)\n",
    "df"
   ]
  },
  {
   "cell_type": "markdown",
   "metadata": {},
   "source": [
    "A couple examples of long versus short song titles,"
   ]
  },
  {
   "cell_type": "code",
   "execution_count": 5,
   "metadata": {},
   "outputs": [
    {
     "name": "stdout",
     "output_type": "stream",
     "text": [
      "Top 3 Longest Song Titles:\n",
      "                                                  name  name_length\n",
      "605  Waka Waka (This Time for Africa) [The Official...           99\n",
      "629  Sucker for Pain (with Wiz Khalifa, Imagine Dra...           94\n",
      "574  Earned It (Fifty Shades Of Grey) - From The \"F...           77\n",
      "\n",
      "Top 3 Shortest Song Titles:\n",
      "    name  name_length\n",
      "496    I            1\n",
      "984    X            1\n",
      "87    21            2\n"
     ]
    }
   ],
   "source": [
    "longest_titles = df.nlargest(3, 'name_length')[['name', 'name_length']]\n",
    "print(\"Top 3 Longest Song Titles:\")\n",
    "print(longest_titles)\n",
    "\n",
    "shortest_titles = df.nsmallest(3, 'name_length')[['name', 'name_length']]\n",
    "print(\"\\nTop 3 Shortest Song Titles:\")\n",
    "print(shortest_titles)"
   ]
  },
  {
   "cell_type": "markdown",
   "metadata": {},
   "source": [
    "And now we add the popularity and release date column by using the spotify IDs to retrieve from the Spotify API. We are using the popularity and release date function we created above."
   ]
  },
  {
   "cell_type": "code",
   "execution_count": 6,
   "metadata": {},
   "outputs": [
    {
     "data": {
      "text/plain": [
       "((995, 7),\n",
       " (0, 5),\n",
       "                                         name         artist  \\\n",
       " 0                     Mood (feat. iann dior)       24kGoldn   \n",
       " 1                            Blinding Lights     The Weeknd   \n",
       " 2                                   Dynamite            BTS   \n",
       " 3               ROCKSTAR (feat. Roddy Ricch)         DaBaby   \n",
       " 4    For The Night (feat. Lil Baby & DaBaby)      Pop Smoke   \n",
       " ..                                       ...            ...   \n",
       " 995                                 Drive By          Train   \n",
       " 996                             Heart Attack    Demi Lovato   \n",
       " 997                Blame (feat. John Newman)  Calvin Harris   \n",
       " 998                                bad idea!    girl in red   \n",
       " 999                              The Weekend            SZA   \n",
       " \n",
       "                  spotify_id  \\\n",
       " 0    3tjFYV6RSFtuktYl3ZtYcq   \n",
       " 1    0VjIjW4GlUZAMYd2vXMi3b   \n",
       " 2    0t1kP63rueHleOhQkYSXFY   \n",
       " 3    7ytR5pFWmSjzHJIeQkgog4   \n",
       " 4    0PvFJmanyNQMseIFrU708S   \n",
       " ..                      ...   \n",
       " 995  0KAiuUOrLTIkzkpfpn9jb9   \n",
       " 996  1V6gIisPpYqgFeWbMLI0bA   \n",
       " 997  07nH4ifBxUB4lZcsf44Brn   \n",
       " 998  1M4Ud66z18wuIq3oOxqVHa   \n",
       " 999  6gU9OKjOE7ghfEd55oRO57   \n",
       " \n",
       "                                                    img  name_length  \\\n",
       " 0    https://i.scdn.co/image/ab67616d0000b273ff8c98...           22   \n",
       " 1    https://i.scdn.co/image/ab67616d0000b2738863bc...           15   \n",
       " 2    https://i.scdn.co/image/ab67616d0000b273755995...            8   \n",
       " 3    https://i.scdn.co/image/ab67616d0000b27320e08c...           28   \n",
       " 4    https://i.scdn.co/image/ab67616d0000b27377ada0...           39   \n",
       " ..                                                 ...          ...   \n",
       " 995  https://i.scdn.co/image/ab67616d0000b273bde344...            8   \n",
       " 996  https://i.scdn.co/image/ab67616d0000b273aadb13...           12   \n",
       " 997  https://i.scdn.co/image/ab67616d0000b273063c04...           25   \n",
       " 998  https://i.scdn.co/image/ab67616d0000b2736df69c...            9   \n",
       " 999  https://i.scdn.co/image/ab67616d0000b2734c79d5...           11   \n",
       " \n",
       "      popularity release_date  \n",
       " 0             9   2020-07-24  \n",
       " 1            91   2020-03-20  \n",
       " 2             7   2020-08-28  \n",
       " 3            78   2020-04-17  \n",
       " 4            77   2020-07-03  \n",
       " ..          ...          ...  \n",
       " 995          84   2012-04-17  \n",
       " 996          82   2013-01-01  \n",
       " 997          84   2014-10-31  \n",
       " 998           3   2019-09-03  \n",
       " 999          79   2017-06-09  \n",
       " \n",
       " [995 rows x 7 columns])"
      ]
     },
     "execution_count": 6,
     "metadata": {},
     "output_type": "execute_result"
    }
   ],
   "source": [
    "rows_to_drop = df[df.isnull().any(axis=1)]\n",
    "df.dropna(inplace=True)\n",
    "df = df.drop_duplicates(subset=['name'])\n",
    "df = get_popularity_and_releasedate_spotify_ids(df, sp, id_col='spotify_id')\n",
    "df.shape, rows_to_drop.shape, df"
   ]
  },
  {
   "cell_type": "markdown",
   "metadata": {},
   "source": [
    "We want to make sure our data can be manipulated so we remove any rows with any null values. We also want to remove duplicate songs so we do not have mismatching data. We will also want to make sure all the dates are in the same format."
   ]
  },
  {
   "cell_type": "code",
   "execution_count": 7,
   "metadata": {},
   "outputs": [
    {
     "data": {
      "text/plain": [
       "(                                        name         artist  \\\n",
       " 0                     Mood (feat. iann dior)       24kGoldn   \n",
       " 1                            Blinding Lights     The Weeknd   \n",
       " 2                                   Dynamite            BTS   \n",
       " 3               ROCKSTAR (feat. Roddy Ricch)         DaBaby   \n",
       " 4    For The Night (feat. Lil Baby & DaBaby)      Pop Smoke   \n",
       " ..                                       ...            ...   \n",
       " 995                                 Drive By          Train   \n",
       " 996                             Heart Attack    Demi Lovato   \n",
       " 997                Blame (feat. John Newman)  Calvin Harris   \n",
       " 998                                bad idea!    girl in red   \n",
       " 999                              The Weekend            SZA   \n",
       " \n",
       "                  spotify_id  \\\n",
       " 0    3tjFYV6RSFtuktYl3ZtYcq   \n",
       " 1    0VjIjW4GlUZAMYd2vXMi3b   \n",
       " 2    0t1kP63rueHleOhQkYSXFY   \n",
       " 3    7ytR5pFWmSjzHJIeQkgog4   \n",
       " 4    0PvFJmanyNQMseIFrU708S   \n",
       " ..                      ...   \n",
       " 995  0KAiuUOrLTIkzkpfpn9jb9   \n",
       " 996  1V6gIisPpYqgFeWbMLI0bA   \n",
       " 997  07nH4ifBxUB4lZcsf44Brn   \n",
       " 998  1M4Ud66z18wuIq3oOxqVHa   \n",
       " 999  6gU9OKjOE7ghfEd55oRO57   \n",
       " \n",
       "                                                    img  name_length  \\\n",
       " 0    https://i.scdn.co/image/ab67616d0000b273ff8c98...           22   \n",
       " 1    https://i.scdn.co/image/ab67616d0000b2738863bc...           15   \n",
       " 2    https://i.scdn.co/image/ab67616d0000b273755995...            8   \n",
       " 3    https://i.scdn.co/image/ab67616d0000b27320e08c...           28   \n",
       " 4    https://i.scdn.co/image/ab67616d0000b27377ada0...           39   \n",
       " ..                                                 ...          ...   \n",
       " 995  https://i.scdn.co/image/ab67616d0000b273bde344...            8   \n",
       " 996  https://i.scdn.co/image/ab67616d0000b273aadb13...           12   \n",
       " 997  https://i.scdn.co/image/ab67616d0000b273063c04...           25   \n",
       " 998  https://i.scdn.co/image/ab67616d0000b2736df69c...            9   \n",
       " 999  https://i.scdn.co/image/ab67616d0000b2734c79d5...           11   \n",
       " \n",
       "      popularity release_date  \n",
       " 0             9         2020  \n",
       " 1            91         2020  \n",
       " 2             7         2020  \n",
       " 3            78         2020  \n",
       " 4            77         2020  \n",
       " ..          ...          ...  \n",
       " 995          84         2012  \n",
       " 996          82         2013  \n",
       " 997          84         2014  \n",
       " 998           3         2019  \n",
       " 999          79         2017  \n",
       " \n",
       " [995 rows x 7 columns],\n",
       " (995, 7),\n",
       " (0, 7))"
      ]
     },
     "execution_count": 7,
     "metadata": {},
     "output_type": "execute_result"
    }
   ],
   "source": [
    "rows_to_drop = df[df.isnull().any(axis=1)]\n",
    "df.dropna(inplace=True)\n",
    "df = df.drop_duplicates(subset=['name'])\n",
    "df['release_date'] = df['release_date'].str[:4]\n",
    "df, df.shape, rows_to_drop.shape"
   ]
  },
  {
   "cell_type": "markdown",
   "metadata": {},
   "source": [
    "Now, we calculate an engagement score of the images by using the image engagement metric function we created earlier and generate a engagment_score column by normalizing all the metrics of the image and calculating the mean of all these metrics."
   ]
  },
  {
   "cell_type": "code",
   "execution_count": 8,
   "metadata": {},
   "outputs": [
    {
     "data": {
      "text/html": [
       "<div>\n",
       "<style scoped>\n",
       "    .dataframe tbody tr th:only-of-type {\n",
       "        vertical-align: middle;\n",
       "    }\n",
       "\n",
       "    .dataframe tbody tr th {\n",
       "        vertical-align: top;\n",
       "    }\n",
       "\n",
       "    .dataframe thead th {\n",
       "        text-align: right;\n",
       "    }\n",
       "</style>\n",
       "<table border=\"1\" class=\"dataframe\">\n",
       "  <thead>\n",
       "    <tr style=\"text-align: right;\">\n",
       "      <th></th>\n",
       "      <th>name</th>\n",
       "      <th>artist</th>\n",
       "      <th>spotify_id</th>\n",
       "      <th>img</th>\n",
       "      <th>name_length</th>\n",
       "      <th>popularity</th>\n",
       "      <th>release_date</th>\n",
       "      <th>engagement_score</th>\n",
       "    </tr>\n",
       "  </thead>\n",
       "  <tbody>\n",
       "    <tr>\n",
       "      <th>0</th>\n",
       "      <td>Mood (feat. iann dior)</td>\n",
       "      <td>24kGoldn</td>\n",
       "      <td>3tjFYV6RSFtuktYl3ZtYcq</td>\n",
       "      <td>https://i.scdn.co/image/ab67616d0000b273ff8c98...</td>\n",
       "      <td>22</td>\n",
       "      <td>9</td>\n",
       "      <td>2020</td>\n",
       "      <td>0.517072</td>\n",
       "    </tr>\n",
       "    <tr>\n",
       "      <th>1</th>\n",
       "      <td>Blinding Lights</td>\n",
       "      <td>The Weeknd</td>\n",
       "      <td>0VjIjW4GlUZAMYd2vXMi3b</td>\n",
       "      <td>https://i.scdn.co/image/ab67616d0000b2738863bc...</td>\n",
       "      <td>15</td>\n",
       "      <td>91</td>\n",
       "      <td>2020</td>\n",
       "      <td>0.360112</td>\n",
       "    </tr>\n",
       "    <tr>\n",
       "      <th>2</th>\n",
       "      <td>Dynamite</td>\n",
       "      <td>BTS</td>\n",
       "      <td>0t1kP63rueHleOhQkYSXFY</td>\n",
       "      <td>https://i.scdn.co/image/ab67616d0000b273755995...</td>\n",
       "      <td>8</td>\n",
       "      <td>7</td>\n",
       "      <td>2020</td>\n",
       "      <td>0.410499</td>\n",
       "    </tr>\n",
       "    <tr>\n",
       "      <th>3</th>\n",
       "      <td>ROCKSTAR (feat. Roddy Ricch)</td>\n",
       "      <td>DaBaby</td>\n",
       "      <td>7ytR5pFWmSjzHJIeQkgog4</td>\n",
       "      <td>https://i.scdn.co/image/ab67616d0000b27320e08c...</td>\n",
       "      <td>28</td>\n",
       "      <td>78</td>\n",
       "      <td>2020</td>\n",
       "      <td>0.418421</td>\n",
       "    </tr>\n",
       "    <tr>\n",
       "      <th>4</th>\n",
       "      <td>For The Night (feat. Lil Baby &amp; DaBaby)</td>\n",
       "      <td>Pop Smoke</td>\n",
       "      <td>0PvFJmanyNQMseIFrU708S</td>\n",
       "      <td>https://i.scdn.co/image/ab67616d0000b27377ada0...</td>\n",
       "      <td>39</td>\n",
       "      <td>77</td>\n",
       "      <td>2020</td>\n",
       "      <td>0.076194</td>\n",
       "    </tr>\n",
       "    <tr>\n",
       "      <th>...</th>\n",
       "      <td>...</td>\n",
       "      <td>...</td>\n",
       "      <td>...</td>\n",
       "      <td>...</td>\n",
       "      <td>...</td>\n",
       "      <td>...</td>\n",
       "      <td>...</td>\n",
       "      <td>...</td>\n",
       "    </tr>\n",
       "    <tr>\n",
       "      <th>990</th>\n",
       "      <td>Good Time</td>\n",
       "      <td>Owl City</td>\n",
       "      <td>1kPpge9JDLpcj15qgrPbYX</td>\n",
       "      <td>https://i.scdn.co/image/ab67616d0000b273cf5459...</td>\n",
       "      <td>9</td>\n",
       "      <td>80</td>\n",
       "      <td>2012</td>\n",
       "      <td>0.453424</td>\n",
       "    </tr>\n",
       "    <tr>\n",
       "      <th>991</th>\n",
       "      <td>Hot Rod</td>\n",
       "      <td>Dayglow</td>\n",
       "      <td>0zePbRMJ9sd7wsZRlbPQua</td>\n",
       "      <td>https://i.scdn.co/image/ab67616d0000b273ccd63a...</td>\n",
       "      <td>7</td>\n",
       "      <td>5</td>\n",
       "      <td>2019</td>\n",
       "      <td>0.483060</td>\n",
       "    </tr>\n",
       "    <tr>\n",
       "      <th>992</th>\n",
       "      <td>i was all over her</td>\n",
       "      <td>salvia palth</td>\n",
       "      <td>7svpAkwc6xaSxlbZ7V7JiS</td>\n",
       "      <td>https://i.scdn.co/image/ab67616d0000b273753982...</td>\n",
       "      <td>18</td>\n",
       "      <td>11</td>\n",
       "      <td>2014</td>\n",
       "      <td>0.401914</td>\n",
       "    </tr>\n",
       "    <tr>\n",
       "      <th>993</th>\n",
       "      <td>Amigos Con Derechos</td>\n",
       "      <td>Reik</td>\n",
       "      <td>4yVO0wOhXsZC1RuPgHP524</td>\n",
       "      <td>https://i.scdn.co/image/ab67616d0000b273fa5655...</td>\n",
       "      <td>19</td>\n",
       "      <td>76</td>\n",
       "      <td>2019</td>\n",
       "      <td>0.391063</td>\n",
       "    </tr>\n",
       "    <tr>\n",
       "      <th>994</th>\n",
       "      <td>Que Mas Pues - Remix</td>\n",
       "      <td>Sech</td>\n",
       "      <td>7fODjB7BrQTGqh0hogW6XD</td>\n",
       "      <td>https://i.scdn.co/image/ab67616d0000b273864343...</td>\n",
       "      <td>20</td>\n",
       "      <td>73</td>\n",
       "      <td>2019</td>\n",
       "      <td>0.441413</td>\n",
       "    </tr>\n",
       "  </tbody>\n",
       "</table>\n",
       "<p>990 rows × 8 columns</p>\n",
       "</div>"
      ],
      "text/plain": [
       "                                        name        artist  \\\n",
       "0                     Mood (feat. iann dior)      24kGoldn   \n",
       "1                            Blinding Lights    The Weeknd   \n",
       "2                                   Dynamite           BTS   \n",
       "3               ROCKSTAR (feat. Roddy Ricch)        DaBaby   \n",
       "4    For The Night (feat. Lil Baby & DaBaby)     Pop Smoke   \n",
       "..                                       ...           ...   \n",
       "990                                Good Time      Owl City   \n",
       "991                                  Hot Rod       Dayglow   \n",
       "992                       i was all over her  salvia palth   \n",
       "993                      Amigos Con Derechos          Reik   \n",
       "994                     Que Mas Pues - Remix          Sech   \n",
       "\n",
       "                 spotify_id  \\\n",
       "0    3tjFYV6RSFtuktYl3ZtYcq   \n",
       "1    0VjIjW4GlUZAMYd2vXMi3b   \n",
       "2    0t1kP63rueHleOhQkYSXFY   \n",
       "3    7ytR5pFWmSjzHJIeQkgog4   \n",
       "4    0PvFJmanyNQMseIFrU708S   \n",
       "..                      ...   \n",
       "990  1kPpge9JDLpcj15qgrPbYX   \n",
       "991  0zePbRMJ9sd7wsZRlbPQua   \n",
       "992  7svpAkwc6xaSxlbZ7V7JiS   \n",
       "993  4yVO0wOhXsZC1RuPgHP524   \n",
       "994  7fODjB7BrQTGqh0hogW6XD   \n",
       "\n",
       "                                                   img  name_length  \\\n",
       "0    https://i.scdn.co/image/ab67616d0000b273ff8c98...           22   \n",
       "1    https://i.scdn.co/image/ab67616d0000b2738863bc...           15   \n",
       "2    https://i.scdn.co/image/ab67616d0000b273755995...            8   \n",
       "3    https://i.scdn.co/image/ab67616d0000b27320e08c...           28   \n",
       "4    https://i.scdn.co/image/ab67616d0000b27377ada0...           39   \n",
       "..                                                 ...          ...   \n",
       "990  https://i.scdn.co/image/ab67616d0000b273cf5459...            9   \n",
       "991  https://i.scdn.co/image/ab67616d0000b273ccd63a...            7   \n",
       "992  https://i.scdn.co/image/ab67616d0000b273753982...           18   \n",
       "993  https://i.scdn.co/image/ab67616d0000b273fa5655...           19   \n",
       "994  https://i.scdn.co/image/ab67616d0000b273864343...           20   \n",
       "\n",
       "     popularity release_date  engagement_score  \n",
       "0             9         2020          0.517072  \n",
       "1            91         2020          0.360112  \n",
       "2             7         2020          0.410499  \n",
       "3            78         2020          0.418421  \n",
       "4            77         2020          0.076194  \n",
       "..          ...          ...               ...  \n",
       "990          80         2012          0.453424  \n",
       "991           5         2019          0.483060  \n",
       "992          11         2014          0.401914  \n",
       "993          76         2019          0.391063  \n",
       "994          73         2019          0.441413  \n",
       "\n",
       "[990 rows x 8 columns]"
      ]
     },
     "execution_count": 8,
     "metadata": {},
     "output_type": "execute_result"
    }
   ],
   "source": [
    "from sklearn.preprocessing import MinMaxScaler\n",
    "\n",
    "metrics_df = df['img'].apply(get_image_engagement_metrics).apply(pd.Series)\n",
    "df = pd.concat([df, metrics_df], axis=1)\n",
    "\n",
    "engagement_features = ['contrast', 'colorfulness', 'brightness', 'sharpness', 'entropy']\n",
    "scaler = MinMaxScaler()\n",
    "df_scaled = pd.DataFrame(scaler.fit_transform(df[engagement_features]), columns=engagement_features)\n",
    "\n",
    "df['engagement_score'] = df_scaled.mean(axis=1)\n",
    "df = df.dropna(subset=['engagement_score'])\n",
    "df.drop(columns=engagement_features, inplace=True)\n",
    "\n",
    "df"
   ]
  },
  {
   "cell_type": "markdown",
   "metadata": {},
   "source": [
    "These are some examples of a high engagement album covers when scored using our engagement metrics,"
   ]
  },
  {
   "cell_type": "code",
   "execution_count": 9,
   "metadata": {},
   "outputs": [
    {
     "data": {
      "text/html": [
       "<img src=\"https://i.scdn.co/image/ab67616d0000b27377fdcfda6535601aff081b6a\" width=\"200\"/>"
      ],
      "text/plain": [
       "<IPython.core.display.Image object>"
      ]
     },
     "metadata": {},
     "output_type": "display_data"
    },
    {
     "name": "stdout",
     "output_type": "stream",
     "text": [
      "Score: 0.707\n",
      "\n"
     ]
    },
    {
     "data": {
      "text/html": [
       "<img src=\"https://i.scdn.co/image/ab67616d0000b2736c619c39c853f8b1d67b7859\" width=\"200\"/>"
      ],
      "text/plain": [
       "<IPython.core.display.Image object>"
      ]
     },
     "metadata": {},
     "output_type": "display_data"
    },
    {
     "name": "stdout",
     "output_type": "stream",
     "text": [
      "Score: 0.666\n",
      "\n"
     ]
    },
    {
     "data": {
      "text/html": [
       "<img src=\"https://i.scdn.co/image/ab67616d0000b2738d12bc5e3ea5c9f4a967de32\" width=\"200\"/>"
      ],
      "text/plain": [
       "<IPython.core.display.Image object>"
      ]
     },
     "metadata": {},
     "output_type": "display_data"
    },
    {
     "name": "stdout",
     "output_type": "stream",
     "text": [
      "Score: 0.620\n",
      "\n"
     ]
    },
    {
     "data": {
      "text/html": [
       "<img src=\"https://i.scdn.co/image/ab67616d0000b273ec4f8c81eb9ddee00e01798d\" width=\"200\"/>"
      ],
      "text/plain": [
       "<IPython.core.display.Image object>"
      ]
     },
     "metadata": {},
     "output_type": "display_data"
    },
    {
     "name": "stdout",
     "output_type": "stream",
     "text": [
      "Score: 0.607\n",
      "\n"
     ]
    },
    {
     "data": {
      "text/html": [
       "<img src=\"https://i.scdn.co/image/ab67616d0000b273ae9a8fcf55d7d74ca02c1e66\" width=\"200\"/>"
      ],
      "text/plain": [
       "<IPython.core.display.Image object>"
      ]
     },
     "metadata": {},
     "output_type": "display_data"
    },
    {
     "name": "stdout",
     "output_type": "stream",
     "text": [
      "Score: 0.597\n",
      "\n"
     ]
    }
   ],
   "source": [
    "from IPython.display import Image, display\n",
    "\n",
    "top_engagement = df.nlargest(5, 'engagement_score')\n",
    "for _, row in top_engagement.iterrows():\n",
    "    display(Image(url=row['img'], width=200))\n",
    "    print(f\"Score: {row['engagement_score']:.3f}\\n\")"
   ]
  },
  {
   "cell_type": "markdown",
   "metadata": {},
   "source": [
    "And here are some examples of low engagement album covers,"
   ]
  },
  {
   "cell_type": "code",
   "execution_count": 10,
   "metadata": {},
   "outputs": [
    {
     "data": {
      "text/html": [
       "<img src=\"https://i.scdn.co/image/ab67616d0000b273eb59d8c00eb852e07b1c4b83\" width=\"200\"/>"
      ],
      "text/plain": [
       "<IPython.core.display.Image object>"
      ]
     },
     "metadata": {},
     "output_type": "display_data"
    },
    {
     "name": "stdout",
     "output_type": "stream",
     "text": [
      "Score: 0.016\n",
      "\n"
     ]
    },
    {
     "data": {
      "text/html": [
       "<img src=\"https://i.scdn.co/image/ab67616d0000b273b5ed9187ac7f8aa281a547e3\" width=\"200\"/>"
      ],
      "text/plain": [
       "<IPython.core.display.Image object>"
      ]
     },
     "metadata": {},
     "output_type": "display_data"
    },
    {
     "name": "stdout",
     "output_type": "stream",
     "text": [
      "Score: 0.032\n",
      "\n"
     ]
    },
    {
     "data": {
      "text/html": [
       "<img src=\"https://i.scdn.co/image/ab67616d0000b27308862f843ea27f44f8e8cbd8\" width=\"200\"/>"
      ],
      "text/plain": [
       "<IPython.core.display.Image object>"
      ]
     },
     "metadata": {},
     "output_type": "display_data"
    },
    {
     "name": "stdout",
     "output_type": "stream",
     "text": [
      "Score: 0.058\n",
      "\n"
     ]
    },
    {
     "data": {
      "text/html": [
       "<img src=\"https://i.scdn.co/image/ab67616d0000b2730b51f8d91f3a21e8426361ae\" width=\"200\"/>"
      ],
      "text/plain": [
       "<IPython.core.display.Image object>"
      ]
     },
     "metadata": {},
     "output_type": "display_data"
    },
    {
     "name": "stdout",
     "output_type": "stream",
     "text": [
      "Score: 0.060\n",
      "\n"
     ]
    },
    {
     "data": {
      "text/html": [
       "<img src=\"https://i.scdn.co/image/ab67616d0000b27377ada0863603903f57b34369\" width=\"200\"/>"
      ],
      "text/plain": [
       "<IPython.core.display.Image object>"
      ]
     },
     "metadata": {},
     "output_type": "display_data"
    },
    {
     "name": "stdout",
     "output_type": "stream",
     "text": [
      "Score: 0.076\n",
      "\n"
     ]
    }
   ],
   "source": [
    "from IPython.display import Image, display\n",
    "\n",
    "low_engagement = df.nsmallest(5, 'engagement_score')\n",
    "for _, row in low_engagement.iterrows():\n",
    "    display(Image(url=row['img'], width=200))\n",
    "    print(f\"Score: {row['engagement_score']:.3f}\\n\")"
   ]
  },
  {
   "cell_type": "markdown",
   "metadata": {},
   "source": [
    "We also want to analyze the effects of common emotional keywords in song titles to how popular they are. We created a list of common emotional keywords in song titles and create a new column which determines whether a song has an emotional title or not."
   ]
  },
  {
   "cell_type": "code",
   "execution_count": 11,
   "metadata": {},
   "outputs": [],
   "source": [
    "emotional_keywords = ['love', 'sad', 'happy', 'hate', 'joy', 'angry', 'fear', 'lonely', 'hope', 'life', 'feel', 'mood', 'me', 'you', 'us', 'her']\n",
    "df['has_emotion'] = df['name'].str.lower().apply(\n",
    "    lambda x: int(any(word in x for word in emotional_keywords))\n",
    ")"
   ]
  },
  {
   "cell_type": "markdown",
   "metadata": {},
   "source": [
    "# Results\n",
    "\n",
    "## Exploratory Data Analysis"
   ]
  },
  {
   "cell_type": "markdown",
   "metadata": {},
   "source": [
    "### Section 1 of EDA - Graph of Image Engagement\n",
    "\n",
    "The scatter plot below illustrates the relationship between the cover art’s contrast and the song’s popularity. Quantifying the different cover art is a bit challenging, as there is no standard way of doing it, so our group decided that measuring the contrast of each album cover was the best option. Judging from the data given to us by the chart, there is no distinct pattern between contrast and a song’s popularity. This means there is no strong correlation between the two variables, meaning that we can have a popular song with high contrast and a popular song with low contrast."
   ]
  },
  {
   "cell_type": "code",
   "execution_count": null,
   "metadata": {},
   "outputs": [
    {
     "data": {
      "text/html": [
       "<table class=\"simpletable\">\n",
       "<caption>OLS Regression Results</caption>\n",
       "<tr>\n",
       "  <th>Dep. Variable:</th>       <td>popularity</td>    <th>  R-squared:         </th> <td>   0.000</td>\n",
       "</tr>\n",
       "<tr>\n",
       "  <th>Model:</th>                   <td>OLS</td>       <th>  Adj. R-squared:    </th> <td>  -0.001</td>\n",
       "</tr>\n",
       "<tr>\n",
       "  <th>Method:</th>             <td>Least Squares</td>  <th>  F-statistic:       </th> <td>  0.4443</td>\n",
       "</tr>\n",
       "<tr>\n",
       "  <th>Date:</th>             <td>Wed, 11 Jun 2025</td> <th>  Prob (F-statistic):</th>  <td> 0.505</td> \n",
       "</tr>\n",
       "<tr>\n",
       "  <th>Time:</th>                 <td>19:52:14</td>     <th>  Log-Likelihood:    </th> <td> -4603.4</td>\n",
       "</tr>\n",
       "<tr>\n",
       "  <th>No. Observations:</th>      <td>   990</td>      <th>  AIC:               </th> <td>   9211.</td>\n",
       "</tr>\n",
       "<tr>\n",
       "  <th>Df Residuals:</th>          <td>   988</td>      <th>  BIC:               </th> <td>   9221.</td>\n",
       "</tr>\n",
       "<tr>\n",
       "  <th>Df Model:</th>              <td>     1</td>      <th>                     </th>     <td> </td>   \n",
       "</tr>\n",
       "<tr>\n",
       "  <th>Covariance Type:</th>      <td>nonrobust</td>    <th>                     </th>     <td> </td>   \n",
       "</tr>\n",
       "</table>\n",
       "<table class=\"simpletable\">\n",
       "<tr>\n",
       "          <td></td>            <th>coef</th>     <th>std err</th>      <th>t</th>      <th>P>|t|</th>  <th>[0.025</th>    <th>0.975]</th>  \n",
       "</tr>\n",
       "<tr>\n",
       "  <th>Intercept</th>        <td>   66.4303</td> <td>    3.461</td> <td>   19.196</td> <td> 0.000</td> <td>   59.639</td> <td>   73.221</td>\n",
       "</tr>\n",
       "<tr>\n",
       "  <th>engagement_score</th> <td>    5.4791</td> <td>    8.220</td> <td>    0.667</td> <td> 0.505</td> <td>  -10.651</td> <td>   21.609</td>\n",
       "</tr>\n",
       "</table>\n",
       "<table class=\"simpletable\">\n",
       "<tr>\n",
       "  <th>Omnibus:</th>       <td>347.625</td> <th>  Durbin-Watson:     </th> <td>   1.911</td> \n",
       "</tr>\n",
       "<tr>\n",
       "  <th>Prob(Omnibus):</th> <td> 0.000</td>  <th>  Jarque-Bera (JB):  </th> <td> 848.630</td> \n",
       "</tr>\n",
       "<tr>\n",
       "  <th>Skew:</th>          <td>-1.945</td>  <th>  Prob(JB):          </th> <td>5.28e-185</td>\n",
       "</tr>\n",
       "<tr>\n",
       "  <th>Kurtosis:</th>      <td> 5.333</td>  <th>  Cond. No.          </th> <td>    11.9</td> \n",
       "</tr>\n",
       "</table><br/><br/>Notes:<br/>[1] Standard Errors assume that the covariance matrix of the errors is correctly specified."
      ],
      "text/latex": [
       "\\begin{center}\n",
       "\\begin{tabular}{lclc}\n",
       "\\toprule\n",
       "\\textbf{Dep. Variable:}    &    popularity    & \\textbf{  R-squared:         } &     0.000   \\\\\n",
       "\\textbf{Model:}            &       OLS        & \\textbf{  Adj. R-squared:    } &    -0.001   \\\\\n",
       "\\textbf{Method:}           &  Least Squares   & \\textbf{  F-statistic:       } &    0.4443   \\\\\n",
       "\\textbf{Date:}             & Wed, 11 Jun 2025 & \\textbf{  Prob (F-statistic):} &    0.505    \\\\\n",
       "\\textbf{Time:}             &     19:52:14     & \\textbf{  Log-Likelihood:    } &   -4603.4   \\\\\n",
       "\\textbf{No. Observations:} &         990      & \\textbf{  AIC:               } &     9211.   \\\\\n",
       "\\textbf{Df Residuals:}     &         988      & \\textbf{  BIC:               } &     9221.   \\\\\n",
       "\\textbf{Df Model:}         &           1      & \\textbf{                     } &             \\\\\n",
       "\\textbf{Covariance Type:}  &    nonrobust     & \\textbf{                     } &             \\\\\n",
       "\\bottomrule\n",
       "\\end{tabular}\n",
       "\\begin{tabular}{lcccccc}\n",
       "                           & \\textbf{coef} & \\textbf{std err} & \\textbf{t} & \\textbf{P$> |$t$|$} & \\textbf{[0.025} & \\textbf{0.975]}  \\\\\n",
       "\\midrule\n",
       "\\textbf{Intercept}         &      66.4303  &        3.461     &    19.196  &         0.000        &       59.639    &       73.221     \\\\\n",
       "\\textbf{engagement\\_score} &       5.4791  &        8.220     &     0.667  &         0.505        &      -10.651    &       21.609     \\\\\n",
       "\\bottomrule\n",
       "\\end{tabular}\n",
       "\\begin{tabular}{lclc}\n",
       "\\textbf{Omnibus:}       & 347.625 & \\textbf{  Durbin-Watson:     } &     1.911  \\\\\n",
       "\\textbf{Prob(Omnibus):} &   0.000 & \\textbf{  Jarque-Bera (JB):  } &   848.630  \\\\\n",
       "\\textbf{Skew:}          &  -1.945 & \\textbf{  Prob(JB):          } & 5.28e-185  \\\\\n",
       "\\textbf{Kurtosis:}      &   5.333 & \\textbf{  Cond. No.          } &      11.9  \\\\\n",
       "\\bottomrule\n",
       "\\end{tabular}\n",
       "%\\caption{OLS Regression Results}\n",
       "\\end{center}\n",
       "\n",
       "Notes: \\newline\n",
       " [1] Standard Errors assume that the covariance matrix of the errors is correctly specified."
      ],
      "text/plain": [
       "<class 'statsmodels.iolib.summary.Summary'>\n",
       "\"\"\"\n",
       "                            OLS Regression Results                            \n",
       "==============================================================================\n",
       "Dep. Variable:             popularity   R-squared:                       0.000\n",
       "Model:                            OLS   Adj. R-squared:                 -0.001\n",
       "Method:                 Least Squares   F-statistic:                    0.4443\n",
       "Date:                Wed, 11 Jun 2025   Prob (F-statistic):              0.505\n",
       "Time:                        19:52:14   Log-Likelihood:                -4603.4\n",
       "No. Observations:                 990   AIC:                             9211.\n",
       "Df Residuals:                     988   BIC:                             9221.\n",
       "Df Model:                           1                                         \n",
       "Covariance Type:            nonrobust                                         \n",
       "====================================================================================\n",
       "                       coef    std err          t      P>|t|      [0.025      0.975]\n",
       "------------------------------------------------------------------------------------\n",
       "Intercept           66.4303      3.461     19.196      0.000      59.639      73.221\n",
       "engagement_score     5.4791      8.220      0.667      0.505     -10.651      21.609\n",
       "==============================================================================\n",
       "Omnibus:                      347.625   Durbin-Watson:                   1.911\n",
       "Prob(Omnibus):                  0.000   Jarque-Bera (JB):              848.630\n",
       "Skew:                          -1.945   Prob(JB):                    5.28e-185\n",
       "Kurtosis:                       5.333   Cond. No.                         11.9\n",
       "==============================================================================\n",
       "\n",
       "Notes:\n",
       "[1] Standard Errors assume that the covariance matrix of the errors is correctly specified.\n",
       "\"\"\""
      ]
     },
     "execution_count": 12,
     "metadata": {},
     "output_type": "execute_result"
    },
    {
     "data": {
      "image/png": "[encoded data removed]",
      "text/plain": [
       "<Figure size 500x500 with 1 Axes>"
      ]
     },
     "metadata": {},
     "output_type": "display_data"
    }
   ],
   "source": [
    "import seaborn as sns\n",
    "import statsmodels as sm\n",
    "import statsmodels.formula.api as smf\n",
    "import matplotlib.pyplot as plt\n",
    "\n",
    "fig = sns.lmplot(data = df,x= 'engagement_score', y = 'popularity',scatter_kws= {'color': 'black'}, line_kws= {'color': 'red'})\n",
    "plt.title('Regression: Engagement Score vs. Popularity')\n",
    "\n",
    "mod = smf.ols('popularity~engagement_score',df)\n",
    "res = mod.fit()\n",
    "res.summary()"
   ]
  },
  {
   "cell_type": "markdown",
   "metadata": {},
   "source": [
    "### Section 2 of EDA - Title Characteristics \n",
    "\n",
    "Based on our hyptohesis, we also want to determine if the title plays a role in how popular a song is. We are basing it on how many characters a title has. With how society tends to judge a song, movie, book or show based on the title, we assume that a song with a shorter title may hook a person browsing charts or new song tracks. However, we can see with the graph `Song Title Length vs Popularity` that there is a slightly positive regression line, indicating that there might be a slight correlation between longer title length and popularity. Though, we cannot concretely say that longer song titles are more popular because of the fact that it is only slightly positive and we do have many songs with shorter titles that are popular. "
   ]
  },
  {
   "cell_type": "code",
   "execution_count": null,
   "metadata": {},
   "outputs": [
    {
     "name": "stdout",
     "output_type": "stream",
     "text": [
      "                            OLS Regression Results                            \n",
      "==============================================================================\n",
      "Dep. Variable:             popularity   R-squared:                       0.003\n",
      "Model:                            OLS   Adj. R-squared:                  0.002\n",
      "Method:                 Least Squares   F-statistic:                     2.497\n",
      "Date:                Wed, 11 Jun 2025   Prob (F-statistic):              0.114\n",
      "Time:                        19:52:14   Log-Likelihood:                -4602.4\n",
      "No. Observations:                 990   AIC:                             9209.\n",
      "Df Residuals:                     988   BIC:                             9219.\n",
      "Df Model:                           1                                         \n",
      "Covariance Type:            nonrobust                                         \n",
      "===============================================================================\n",
      "                  coef    std err          t      P>|t|      [0.025      0.975]\n",
      "-------------------------------------------------------------------------------\n",
      "Intercept      66.8763      1.393     48.004      0.000      64.142      69.610\n",
      "name_length     0.1036      0.066      1.580      0.114      -0.025       0.232\n",
      "==============================================================================\n",
      "Omnibus:                      344.130   Durbin-Watson:                   1.909\n",
      "Prob(Omnibus):                  0.000   Jarque-Bera (JB):              832.350\n",
      "Skew:                          -1.930   Prob(JB):                    1.81e-181\n",
      "Kurtosis:                       5.298   Cond. No.                         36.9\n",
      "==============================================================================\n",
      "\n",
      "Notes:\n",
      "[1] Standard Errors assume that the covariance matrix of the errors is correctly specified.\n"
     ]
    },
    {
     "data": {
      "image/png": "[encoded data removed]",
      "text/plain": [
       "<Figure size 500x500 with 1 Axes>"
      ]
     },
     "metadata": {},
     "output_type": "display_data"
    }
   ],
   "source": [
    "import seaborn as sns\n",
    "import statsmodels as sm\n",
    "import statsmodels.formula.api as smf\n",
    "\n",
    "# Linear regression: popularity ~ title_length\n",
    "fig = sns.lmplot(data=df, x='name_length', y='popularity',\n",
    "                 scatter_kws={'color': 'black'}, line_kws={'color': 'red'})\n",
    "plt.title('Regression: Name Length vs. Popularity')\n",
    "\n",
    "mod = smf.ols('popularity ~ name_length', data=df)\n",
    "res = mod.fit()\n",
    "print(res.summary())"
   ]
  },
  {
   "cell_type": "markdown",
   "metadata": {},
   "source": [
    "### Section 3 of EDA - Presence of Emotional Words\n",
    "Aside from title length and album cover contrast, we observed through the scatter plot below the correlation between a song containing emotional words and popularity. There is no significant correlation between having emotional words present in a song and its popularity. The distribution of popularity within the songs that contain emotional words and those that dont look similar, indicating that any significant relationship between the presence of emotional words and popularity is due to chance."
   ]
  },
  {
   "cell_type": "code",
   "execution_count": 14,
   "metadata": {},
   "outputs": [
    {
     "name": "stdout",
     "output_type": "stream",
     "text": [
      "                            OLS Regression Results                            \n",
      "==============================================================================\n",
      "Dep. Variable:             popularity   R-squared:                       0.003\n",
      "Model:                            OLS   Adj. R-squared:                  0.002\n",
      "Method:                 Least Squares   F-statistic:                     2.674\n",
      "Date:                Wed, 11 Jun 2025   Prob (F-statistic):              0.102\n",
      "Time:                        19:52:14   Log-Likelihood:                -4602.3\n",
      "No. Observations:                 990   AIC:                             9209.\n",
      "Df Residuals:                     988   BIC:                             9218.\n",
      "Df Model:                           1                                         \n",
      "Covariance Type:            nonrobust                                         \n",
      "===============================================================================\n",
      "                  coef    std err          t      P>|t|      [0.025      0.975]\n",
      "-------------------------------------------------------------------------------\n",
      "Intercept      67.7921      0.968     70.021      0.000      65.892      69.692\n",
      "has_emotion     2.8431      1.739      1.635      0.102      -0.569       6.255\n",
      "==============================================================================\n",
      "Omnibus:                      347.187   Durbin-Watson:                   1.911\n",
      "Prob(Omnibus):                  0.000   Jarque-Bera (JB):              846.585\n",
      "Skew:                          -1.943   Prob(JB):                    1.47e-184\n",
      "Kurtosis:                       5.329   Cond. No.                         2.42\n",
      "==============================================================================\n",
      "\n",
      "Notes:\n",
      "[1] Standard Errors assume that the covariance matrix of the errors is correctly specified.\n"
     ]
    },
    {
     "data": {
      "image/png": "[encoded data removed]",
      "text/plain": [
       "<Figure size 500x500 with 1 Axes>"
      ]
     },
     "metadata": {},
     "output_type": "display_data"
    }
   ],
   "source": [
    "## Imports needed for data visualization and stats modeling\n",
    "import seaborn as sns\n",
    "import statsmodels.formula.api as smf\n",
    "import matplotlib.pyplot as plt\n",
    "\n",
    "# Plot with regression line\n",
    "fig = sns.lmplot(data=df, x='has_emotion', y='popularity',\n",
    "                 scatter_kws={'color': 'black'}, line_kws={'color': 'red'})\n",
    "plt.title('Regression: Emotional Keyword Presence vs. Popularity')\n",
    "\n",
    "# OLS Regression\n",
    "mod = smf.ols('popularity ~ has_emotion', data=df)\n",
    "res = mod.fit()\n",
    "print(res.summary())"
   ]
  },
  {
   "cell_type": "markdown",
   "metadata": {},
   "source": [
    "# Ethics & Privacy"
   ]
  },
  {
   "cell_type": "markdown",
   "metadata": {},
   "source": [
    "There are biases and terms that may play a role in how data is collected and in the manner we propose it. The issue is most of our datasets will contain music that may/will contain music that is tied to labels or have sponsorship deals. This means that they could be promoting music, excluding/including music that may not actually reflect what is popular in today’s culture. This leads to how charts may be influenced by brand deals or other monetary factors that may skew the data. Most places like Spotify or other top charts have agendas they want to push and contracts they must uphold. While we may be able to detect the biases by checking for correlation with record labels, and with labels talking about paid promotions, we most likely will not be able to get it all within the scope of our proposed idea. The only workaround is to include more data and try to broaden the data which we collect. While it may not be an issue to our topic, but a something to think about is that some of the more popular music with eye appealing art work, may be restricted by age, so we will keep this in mind when conducting our research. A term of use issue our group has would lie in the retention of a bulk of spotify song data. Spotify is a streaming service and outlines in their terms of use that users are not allowed to store their a majority of their batabase on a local device. Regarding the datasets themselves, our group is collecting album covers, streams, characteristics of songs, and popularity. This makes it easy for our group to avoid discriminating any groups because we intend to include all published albums on the platform regardless of the artist. However, one aspect our project doesn't need to worry about is privacy because we are analyzing public song data that any developer has access to."
   ]
  },
  {
   "cell_type": "markdown",
   "metadata": {},
   "source": [
    "# Discusison and Conclusion\n",
    "\n",
    "We analyzed whether internal presentation features, specifically album cover art and song titles, have any measurable influence on a song’s popularity beyond the music itself. In today’s streaming-driven music landscape, songs are often encountered visually before being heard, raising the question of whether elements like striking artwork or a unique title might capture attention and drive engagement. While it is well established that artist reputation, playlist placement, and marketing campaigns significantly affect popularity, we focused on more subtle, design-related factors that might also contribute to a listener's decision to engage with a track.\n",
    "\n",
    "Our background research centered on understanding the potential importance of visual and textual presentation. Album covers and song titles are immediate points of exposure that may shape a listener’s perception before playback begins. Building on this idea, we aimed to quantify whether aspects such as image contrast or title length show any correlation with popularity. Rather than relying on existing datasets or standard audio features, we developed our own methodology to extract and analyze these visual and textual components, setting our approach apart from more traditional analyses.\n",
    "\n",
    "To examine visual presentation, we applied computer vision techniques using OpenCV to extract several key visual attributes from each album cover. These included brightness, contrast, sharpness, entropy, and colorfulness, chosen to represent different aspects of an image’s overall visual impact. This approach allowed us to analyze the content of the artwork directly, rather than relying on existing datasets or subjective evaluations. However, when we compared these features to song popularity, we found little to no consistent correlation. This suggests that while visual presentation may play a role, its influence on engagement is likely subtle or shaped by other external factors.\n",
    "\n",
    "We also examined song titles by measuring character length and comparing it to popularity metrics. A scatter plot revealed a slight upward trend, indicating that longer titles may be modestly associated with increased popularity. We further grouped titles into short, medium, and long categories, and used a box plot to compare their respective popularity distributions. While there were small differences between the groups, the results showed high variability, making it difficult to draw strong conclusions.\n",
    "\n",
    "In summary, our findings suggest that internal presentation elements like album art and title length may modestly influence a song’s success, but they are unlikely to independently serve as strong predictors. A notable limitation of our study is the extensive range of factors influencing song popularity, many of which involve subjective human-driven preferences such as genre, cultural relevance, and emotional resonance. These human elements likely exert a stronger influence on listener engagement than subtle visual or textual attributes alone.\n",
    "\n",
    "Nonetheless, our analysis highlights the potential of employing tools like OpenCV and custom feature extraction methods to uncover new dimensions of digital media. Future research can build upon this approach by exploring more nuanced visual characteristics and integrating these alongside human-centered factors within comprehensive multivariate models, thus offering deeper insights into how aesthetics contribute to music consumption.\n",
    "\n",
    "\n",
    "\n",
    "# Team Contributions\n",
    "\n",
    "Speficy who did what.  This should be pretty granular, perhaps bullet points, no more than a few sentences per person.\n",
    "\n",
    "- Roy Lee\n",
    "  - Project overview, research question, background, and conclusion.\n",
    "- Brandon Su\n",
    "  - Worked on finding data, data wrangling, and EDA.\n",
    "- Kyle Kim\n",
    "  - Wrote EDA and hypothesis, and helped with data wrangling.\n",
    "- Donovan Tran\n",
    "  - Assisted in the background, wrote the ethics and privacy, and cleaned up EDA.\n",
    "- Rubin Yi\n",
    "  - Wrote the project proposal and team expectations, coordinated team to meet expectations, and video."
   ]
  }
 ],
 "metadata": {
  "kernelspec": {
   "display_name": "base",
   "language": "python",
   "name": "python3"
  },
  "language_info": {
   "codemirror_mode": {
    "name": "ipython",
    "version": 3
   },
   "file_extension": ".py",
   "mimetype": "text/x-python",
   "name": "python",
   "nbconvert_exporter": "python",
   "pygments_lexer": "ipython3",
   "version": "3.12.4"
  }
 },
 "nbformat": 4,
 "nbformat_minor": 2
}
